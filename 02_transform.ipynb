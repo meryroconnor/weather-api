{
 "cells": [
  {
   "cell_type": "code",
   "execution_count": 1,
   "metadata": {},
   "outputs": [],
   "source": [
    "import pandas as pd\n",
    "import numpy as np\n",
    "from api_utils import init_settings\n",
    "\n",
    "start_date,end_date = init_settings()"
   ]
  },
  {
   "cell_type": "code",
   "execution_count": 2,
   "metadata": {},
   "outputs": [
    {
     "data": {
      "text/html": [
       "<div>\n",
       "<style scoped>\n",
       "    .dataframe tbody tr th:only-of-type {\n",
       "        vertical-align: middle;\n",
       "    }\n",
       "\n",
       "    .dataframe tbody tr th {\n",
       "        vertical-align: top;\n",
       "    }\n",
       "\n",
       "    .dataframe thead th {\n",
       "        text-align: right;\n",
       "    }\n",
       "</style>\n",
       "<table border=\"1\" class=\"dataframe\">\n",
       "  <thead>\n",
       "    <tr style=\"text-align: right;\">\n",
       "      <th></th>\n",
       "      <th>date</th>\n",
       "      <th>lat</th>\n",
       "      <th>long</th>\n",
       "      <th>country</th>\n",
       "      <th>city</th>\n",
       "      <th>mintemp_c</th>\n",
       "      <th>maxtemp_c</th>\n",
       "      <th>avgtemp_c</th>\n",
       "      <th>avghumidity</th>\n",
       "      <th>totalprecip_mm</th>\n",
       "      <th>description</th>\n",
       "    </tr>\n",
       "  </thead>\n",
       "  <tbody>\n",
       "    <tr>\n",
       "      <th>0</th>\n",
       "      <td>2023-04-01</td>\n",
       "      <td>-34.59</td>\n",
       "      <td>-58.67</td>\n",
       "      <td>Argentina</td>\n",
       "      <td>Buenos Aires</td>\n",
       "      <td>11.3</td>\n",
       "      <td>23.8</td>\n",
       "      <td>17.0</td>\n",
       "      <td>54.0</td>\n",
       "      <td>0.0</td>\n",
       "      <td>Partly cloudy</td>\n",
       "    </tr>\n",
       "    <tr>\n",
       "      <th>1</th>\n",
       "      <td>2023-04-02</td>\n",
       "      <td>-34.59</td>\n",
       "      <td>-58.67</td>\n",
       "      <td>Argentina</td>\n",
       "      <td>Buenos Aires</td>\n",
       "      <td>14.6</td>\n",
       "      <td>28.1</td>\n",
       "      <td>20.8</td>\n",
       "      <td>53.0</td>\n",
       "      <td>0.0</td>\n",
       "      <td>Partly cloudy</td>\n",
       "    </tr>\n",
       "    <tr>\n",
       "      <th>2</th>\n",
       "      <td>2023-04-03</td>\n",
       "      <td>-34.59</td>\n",
       "      <td>-58.67</td>\n",
       "      <td>Argentina</td>\n",
       "      <td>Buenos Aires</td>\n",
       "      <td>15.2</td>\n",
       "      <td>19.9</td>\n",
       "      <td>17.6</td>\n",
       "      <td>88.0</td>\n",
       "      <td>26.0</td>\n",
       "      <td>Light rain shower</td>\n",
       "    </tr>\n",
       "    <tr>\n",
       "      <th>3</th>\n",
       "      <td>2023-04-04</td>\n",
       "      <td>-34.59</td>\n",
       "      <td>-58.67</td>\n",
       "      <td>Argentina</td>\n",
       "      <td>Buenos Aires</td>\n",
       "      <td>14.9</td>\n",
       "      <td>24.8</td>\n",
       "      <td>19.1</td>\n",
       "      <td>78.0</td>\n",
       "      <td>0.0</td>\n",
       "      <td>Fog</td>\n",
       "    </tr>\n",
       "    <tr>\n",
       "      <th>4</th>\n",
       "      <td>2023-04-05</td>\n",
       "      <td>-34.59</td>\n",
       "      <td>-58.67</td>\n",
       "      <td>Argentina</td>\n",
       "      <td>Buenos Aires</td>\n",
       "      <td>17.6</td>\n",
       "      <td>24.7</td>\n",
       "      <td>20.5</td>\n",
       "      <td>71.0</td>\n",
       "      <td>0.1</td>\n",
       "      <td>Patchy rain possible</td>\n",
       "    </tr>\n",
       "  </tbody>\n",
       "</table>\n",
       "</div>"
      ],
      "text/plain": [
       "         date    lat   long    country          city  mintemp_c  maxtemp_c  \\\n",
       "0  2023-04-01 -34.59 -58.67  Argentina  Buenos Aires       11.3       23.8   \n",
       "1  2023-04-02 -34.59 -58.67  Argentina  Buenos Aires       14.6       28.1   \n",
       "2  2023-04-03 -34.59 -58.67  Argentina  Buenos Aires       15.2       19.9   \n",
       "3  2023-04-04 -34.59 -58.67  Argentina  Buenos Aires       14.9       24.8   \n",
       "4  2023-04-05 -34.59 -58.67  Argentina  Buenos Aires       17.6       24.7   \n",
       "\n",
       "   avgtemp_c  avghumidity  totalprecip_mm           description  \n",
       "0       17.0         54.0             0.0         Partly cloudy  \n",
       "1       20.8         53.0             0.0         Partly cloudy  \n",
       "2       17.6         88.0            26.0     Light rain shower  \n",
       "3       19.1         78.0             0.0                   Fog  \n",
       "4       20.5         71.0             0.1  Patchy rain possible  "
      ]
     },
     "execution_count": 2,
     "metadata": {},
     "output_type": "execute_result"
    }
   ],
   "source": [
    "df = pd.read_csv(f'data/01_raw/{start_date}_{end_date}.csv')\n",
    "df.head()"
   ]
  },
  {
   "attachments": {},
   "cell_type": "markdown",
   "metadata": {},
   "source": [
    "### *Transformations*:\n",
    "#### Deribed columns\n",
    "1. *cloud_coverage*: [boolean] there was a cloudy sky/ low visibility\n",
    "2. *rain*: [boolean]  it rained\n",
    "3. *rain_tomorrow*: [boolean] next day rained\n",
    "4. *mean_avg_humidity_3days*: [float] 3 days window mean of avgtemp_c (media movil)\n",
    "5. *humidity_ratio*: [float] daily humidity encrease vs previous day"
   ]
  },
  {
   "attachments": {},
   "cell_type": "markdown",
   "metadata": {},
   "source": [
    "#### 1. cloud_coverage"
   ]
  },
  {
   "cell_type": "code",
   "execution_count": 3,
   "metadata": {},
   "outputs": [
    {
     "data": {
      "text/plain": [
       "Sunny                   16\n",
       "Partly cloudy           11\n",
       "Light rain shower        4\n",
       "Cloudy                   3\n",
       "Overcast                 3\n",
       "Patchy rain possible     2\n",
       "Fog                      1\n",
       "Light rain               1\n",
       "Moderate rain            1\n",
       "Heavy rain               1\n",
       "Mist                     1\n",
       "Name: description, dtype: int64"
      ]
     },
     "execution_count": 3,
     "metadata": {},
     "output_type": "execute_result"
    }
   ],
   "source": [
    "df[\"description\"].value_counts()"
   ]
  },
  {
   "cell_type": "code",
   "execution_count": 4,
   "metadata": {},
   "outputs": [],
   "source": [
    "df[\"description\"] = df[\"description\"].str.lower()\n",
    "df[\"cloud_coverage\"]=np.where(df[\"description\"].str.contains(\"sunny\"), 0, 1)\n"
   ]
  },
  {
   "cell_type": "code",
   "execution_count": 5,
   "metadata": {},
   "outputs": [
    {
     "data": {
      "text/plain": [
       "1    28\n",
       "0    16\n",
       "Name: cloud_coverage, dtype: int64"
      ]
     },
     "execution_count": 5,
     "metadata": {},
     "output_type": "execute_result"
    }
   ],
   "source": [
    "df[\"cloud_coverage\"].value_counts()"
   ]
  },
  {
   "attachments": {},
   "cell_type": "markdown",
   "metadata": {},
   "source": [
    "#### 2. rain"
   ]
  },
  {
   "cell_type": "code",
   "execution_count": 6,
   "metadata": {},
   "outputs": [
    {
     "data": {
      "text/plain": [
       "0    33\n",
       "1    11\n",
       "Name: rain, dtype: int64"
      ]
     },
     "execution_count": 6,
     "metadata": {},
     "output_type": "execute_result"
    }
   ],
   "source": [
    "df[\"rain\"] = np.where(df[\"totalprecip_mm\"]>0,1,0)\n",
    "df[\"rain\"].value_counts()"
   ]
  },
  {
   "attachments": {},
   "cell_type": "markdown",
   "metadata": {},
   "source": [
    "#### 3. rain_tomorrow"
   ]
  },
  {
   "cell_type": "code",
   "execution_count": 7,
   "metadata": {},
   "outputs": [
    {
     "data": {
      "text/html": [
       "<div>\n",
       "<style scoped>\n",
       "    .dataframe tbody tr th:only-of-type {\n",
       "        vertical-align: middle;\n",
       "    }\n",
       "\n",
       "    .dataframe tbody tr th {\n",
       "        vertical-align: top;\n",
       "    }\n",
       "\n",
       "    .dataframe thead th {\n",
       "        text-align: right;\n",
       "    }\n",
       "</style>\n",
       "<table border=\"1\" class=\"dataframe\">\n",
       "  <thead>\n",
       "    <tr style=\"text-align: right;\">\n",
       "      <th></th>\n",
       "      <th>rain_tomorrow</th>\n",
       "      <th>rain</th>\n",
       "      <th>date</th>\n",
       "    </tr>\n",
       "  </thead>\n",
       "  <tbody>\n",
       "    <tr>\n",
       "      <th>0</th>\n",
       "      <td>0.0</td>\n",
       "      <td>0</td>\n",
       "      <td>2023-04-01</td>\n",
       "    </tr>\n",
       "    <tr>\n",
       "      <th>1</th>\n",
       "      <td>1.0</td>\n",
       "      <td>0</td>\n",
       "      <td>2023-04-02</td>\n",
       "    </tr>\n",
       "    <tr>\n",
       "      <th>2</th>\n",
       "      <td>0.0</td>\n",
       "      <td>1</td>\n",
       "      <td>2023-04-03</td>\n",
       "    </tr>\n",
       "    <tr>\n",
       "      <th>3</th>\n",
       "      <td>1.0</td>\n",
       "      <td>0</td>\n",
       "      <td>2023-04-04</td>\n",
       "    </tr>\n",
       "    <tr>\n",
       "      <th>4</th>\n",
       "      <td>0.0</td>\n",
       "      <td>1</td>\n",
       "      <td>2023-04-05</td>\n",
       "    </tr>\n",
       "  </tbody>\n",
       "</table>\n",
       "</div>"
      ],
      "text/plain": [
       "   rain_tomorrow  rain        date\n",
       "0            0.0     0  2023-04-01\n",
       "1            1.0     0  2023-04-02\n",
       "2            0.0     1  2023-04-03\n",
       "3            1.0     0  2023-04-04\n",
       "4            0.0     1  2023-04-05"
      ]
     },
     "execution_count": 7,
     "metadata": {},
     "output_type": "execute_result"
    }
   ],
   "source": [
    "df['rain_tomorrow'] = df['rain'].shift(-1)\n",
    "df[['rain_tomorrow','rain',\"date\"]].head()"
   ]
  },
  {
   "attachments": {},
   "cell_type": "markdown",
   "metadata": {},
   "source": [
    "#### 4. mean_avg_humidity_3days"
   ]
  },
  {
   "cell_type": "code",
   "execution_count": 9,
   "metadata": {},
   "outputs": [
    {
     "data": {
      "text/html": [
       "<div>\n",
       "<style scoped>\n",
       "    .dataframe tbody tr th:only-of-type {\n",
       "        vertical-align: middle;\n",
       "    }\n",
       "\n",
       "    .dataframe tbody tr th {\n",
       "        vertical-align: top;\n",
       "    }\n",
       "\n",
       "    .dataframe thead th {\n",
       "        text-align: right;\n",
       "    }\n",
       "</style>\n",
       "<table border=\"1\" class=\"dataframe\">\n",
       "  <thead>\n",
       "    <tr style=\"text-align: right;\">\n",
       "      <th></th>\n",
       "      <th>date</th>\n",
       "      <th>avghumidity</th>\n",
       "      <th>mean_avghumidity_3days</th>\n",
       "    </tr>\n",
       "  </thead>\n",
       "  <tbody>\n",
       "    <tr>\n",
       "      <th>0</th>\n",
       "      <td>2023-04-01</td>\n",
       "      <td>54.0</td>\n",
       "      <td>NaN</td>\n",
       "    </tr>\n",
       "    <tr>\n",
       "      <th>1</th>\n",
       "      <td>2023-04-02</td>\n",
       "      <td>53.0</td>\n",
       "      <td>NaN</td>\n",
       "    </tr>\n",
       "    <tr>\n",
       "      <th>2</th>\n",
       "      <td>2023-04-03</td>\n",
       "      <td>88.0</td>\n",
       "      <td>NaN</td>\n",
       "    </tr>\n",
       "    <tr>\n",
       "      <th>3</th>\n",
       "      <td>2023-04-04</td>\n",
       "      <td>78.0</td>\n",
       "      <td>65.0</td>\n",
       "    </tr>\n",
       "    <tr>\n",
       "      <th>4</th>\n",
       "      <td>2023-04-05</td>\n",
       "      <td>71.0</td>\n",
       "      <td>73.0</td>\n",
       "    </tr>\n",
       "  </tbody>\n",
       "</table>\n",
       "</div>"
      ],
      "text/plain": [
       "         date  avghumidity  mean_avghumidity_3days\n",
       "0  2023-04-01         54.0                     NaN\n",
       "1  2023-04-02         53.0                     NaN\n",
       "2  2023-04-03         88.0                     NaN\n",
       "3  2023-04-04         78.0                    65.0\n",
       "4  2023-04-05         71.0                    73.0"
      ]
     },
     "execution_count": 9,
     "metadata": {},
     "output_type": "execute_result"
    }
   ],
   "source": [
    "def calculate_mean_avg_humidity(data):\n",
    "    # Sort the data by date in ascending order\n",
    "    data.sort_values('date', inplace=True)\n",
    "    \n",
    "    # Create a new column to store the mean of the previous 3 days' average humidity\n",
    "    data['mean_avghumidity_3days'] = pd.Series(dtype='float64')\n",
    "    \n",
    "    # Iterate over each row in the dataframe\n",
    "    for i, row in data.iterrows():\n",
    "        if i >= 3:\n",
    "            # Calculate the mean of the previous 3 days' average humidity\n",
    "            mean_avg_humidity_3days = data.loc[i-3:i-1, 'avghumidity'].mean()\n",
    "            data.at[i, 'mean_avghumidity_3days'] = mean_avg_humidity_3days\n",
    "    \n",
    "    return data\n",
    "    \n",
    "calculate_mean_avg_humidity(df)\n",
    "df[[\"date\",\"avghumidity\",\"mean_avghumidity_3days\"]].head()"
   ]
  },
  {
   "attachments": {},
   "cell_type": "markdown",
   "metadata": {},
   "source": [
    "#### 5. humidity_ratio"
   ]
  },
  {
   "cell_type": "code",
   "execution_count": 10,
   "metadata": {},
   "outputs": [
    {
     "data": {
      "text/html": [
       "<div>\n",
       "<style scoped>\n",
       "    .dataframe tbody tr th:only-of-type {\n",
       "        vertical-align: middle;\n",
       "    }\n",
       "\n",
       "    .dataframe tbody tr th {\n",
       "        vertical-align: top;\n",
       "    }\n",
       "\n",
       "    .dataframe thead th {\n",
       "        text-align: right;\n",
       "    }\n",
       "</style>\n",
       "<table border=\"1\" class=\"dataframe\">\n",
       "  <thead>\n",
       "    <tr style=\"text-align: right;\">\n",
       "      <th></th>\n",
       "      <th>date</th>\n",
       "      <th>lat</th>\n",
       "      <th>long</th>\n",
       "      <th>country</th>\n",
       "      <th>city</th>\n",
       "      <th>mintemp_c</th>\n",
       "      <th>maxtemp_c</th>\n",
       "      <th>avgtemp_c</th>\n",
       "      <th>avghumidity</th>\n",
       "      <th>totalprecip_mm</th>\n",
       "      <th>description</th>\n",
       "      <th>cloud_coverage</th>\n",
       "      <th>rain</th>\n",
       "      <th>rain_tomorrow</th>\n",
       "      <th>mean_avghumidity_3days</th>\n",
       "      <th>humidity_ratio</th>\n",
       "    </tr>\n",
       "  </thead>\n",
       "  <tbody>\n",
       "    <tr>\n",
       "      <th>0</th>\n",
       "      <td>2023-04-01</td>\n",
       "      <td>-34.59</td>\n",
       "      <td>-58.67</td>\n",
       "      <td>Argentina</td>\n",
       "      <td>Buenos Aires</td>\n",
       "      <td>11.3</td>\n",
       "      <td>23.8</td>\n",
       "      <td>17.0</td>\n",
       "      <td>54.0</td>\n",
       "      <td>0.0</td>\n",
       "      <td>partly cloudy</td>\n",
       "      <td>1</td>\n",
       "      <td>0</td>\n",
       "      <td>0.0</td>\n",
       "      <td>NaN</td>\n",
       "      <td>NaN</td>\n",
       "    </tr>\n",
       "    <tr>\n",
       "      <th>1</th>\n",
       "      <td>2023-04-02</td>\n",
       "      <td>-34.59</td>\n",
       "      <td>-58.67</td>\n",
       "      <td>Argentina</td>\n",
       "      <td>Buenos Aires</td>\n",
       "      <td>14.6</td>\n",
       "      <td>28.1</td>\n",
       "      <td>20.8</td>\n",
       "      <td>53.0</td>\n",
       "      <td>0.0</td>\n",
       "      <td>partly cloudy</td>\n",
       "      <td>1</td>\n",
       "      <td>0</td>\n",
       "      <td>1.0</td>\n",
       "      <td>NaN</td>\n",
       "      <td>-0.02</td>\n",
       "    </tr>\n",
       "    <tr>\n",
       "      <th>2</th>\n",
       "      <td>2023-04-03</td>\n",
       "      <td>-34.59</td>\n",
       "      <td>-58.67</td>\n",
       "      <td>Argentina</td>\n",
       "      <td>Buenos Aires</td>\n",
       "      <td>15.2</td>\n",
       "      <td>19.9</td>\n",
       "      <td>17.6</td>\n",
       "      <td>88.0</td>\n",
       "      <td>26.0</td>\n",
       "      <td>light rain shower</td>\n",
       "      <td>1</td>\n",
       "      <td>1</td>\n",
       "      <td>0.0</td>\n",
       "      <td>NaN</td>\n",
       "      <td>0.66</td>\n",
       "    </tr>\n",
       "    <tr>\n",
       "      <th>3</th>\n",
       "      <td>2023-04-04</td>\n",
       "      <td>-34.59</td>\n",
       "      <td>-58.67</td>\n",
       "      <td>Argentina</td>\n",
       "      <td>Buenos Aires</td>\n",
       "      <td>14.9</td>\n",
       "      <td>24.8</td>\n",
       "      <td>19.1</td>\n",
       "      <td>78.0</td>\n",
       "      <td>0.0</td>\n",
       "      <td>fog</td>\n",
       "      <td>1</td>\n",
       "      <td>0</td>\n",
       "      <td>1.0</td>\n",
       "      <td>65.0</td>\n",
       "      <td>-0.11</td>\n",
       "    </tr>\n",
       "    <tr>\n",
       "      <th>4</th>\n",
       "      <td>2023-04-05</td>\n",
       "      <td>-34.59</td>\n",
       "      <td>-58.67</td>\n",
       "      <td>Argentina</td>\n",
       "      <td>Buenos Aires</td>\n",
       "      <td>17.6</td>\n",
       "      <td>24.7</td>\n",
       "      <td>20.5</td>\n",
       "      <td>71.0</td>\n",
       "      <td>0.1</td>\n",
       "      <td>patchy rain possible</td>\n",
       "      <td>1</td>\n",
       "      <td>1</td>\n",
       "      <td>0.0</td>\n",
       "      <td>73.0</td>\n",
       "      <td>-0.09</td>\n",
       "    </tr>\n",
       "  </tbody>\n",
       "</table>\n",
       "</div>"
      ],
      "text/plain": [
       "         date    lat   long    country          city  mintemp_c  maxtemp_c  \\\n",
       "0  2023-04-01 -34.59 -58.67  Argentina  Buenos Aires       11.3       23.8   \n",
       "1  2023-04-02 -34.59 -58.67  Argentina  Buenos Aires       14.6       28.1   \n",
       "2  2023-04-03 -34.59 -58.67  Argentina  Buenos Aires       15.2       19.9   \n",
       "3  2023-04-04 -34.59 -58.67  Argentina  Buenos Aires       14.9       24.8   \n",
       "4  2023-04-05 -34.59 -58.67  Argentina  Buenos Aires       17.6       24.7   \n",
       "\n",
       "   avgtemp_c  avghumidity  totalprecip_mm           description  \\\n",
       "0       17.0         54.0             0.0         partly cloudy   \n",
       "1       20.8         53.0             0.0         partly cloudy   \n",
       "2       17.6         88.0            26.0     light rain shower   \n",
       "3       19.1         78.0             0.0                   fog   \n",
       "4       20.5         71.0             0.1  patchy rain possible   \n",
       "\n",
       "   cloud_coverage  rain  rain_tomorrow  mean_avghumidity_3days  humidity_ratio  \n",
       "0               1     0            0.0                     NaN             NaN  \n",
       "1               1     0            1.0                     NaN           -0.02  \n",
       "2               1     1            0.0                     NaN            0.66  \n",
       "3               1     0            1.0                    65.0           -0.11  \n",
       "4               1     1            0.0                    73.0           -0.09  "
      ]
     },
     "execution_count": 10,
     "metadata": {},
     "output_type": "execute_result"
    }
   ],
   "source": [
    "def calculate_humidity_ratio(data):\n",
    "    # Sort the data by date in ascending order\n",
    "    data.sort_values('date', inplace=True)\n",
    "    \n",
    "    # Calculate the ratio of avg_humidity to the previous day's avg_humidity\n",
    "    data['humidity_ratio'] = df.loc[:, 'avghumidity'].pct_change().round(decimals=2)\n",
    "    \n",
    "    return data\n",
    "    \n",
    "calculate_humidity_ratio(df)\n",
    "df.head()"
   ]
  },
  {
   "attachments": {},
   "cell_type": "markdown",
   "metadata": {},
   "source": [
    "#### Store transformed data"
   ]
  },
  {
   "cell_type": "code",
   "execution_count": 11,
   "metadata": {},
   "outputs": [],
   "source": [
    "df.to_csv(f'data/02_transformed/{start_date}_{end_date}.csv',index=False)"
   ]
  }
 ],
 "metadata": {
  "kernelspec": {
   "display_name": "etl-prices",
   "language": "python",
   "name": "python3"
  },
  "language_info": {
   "codemirror_mode": {
    "name": "ipython",
    "version": 3
   },
   "file_extension": ".py",
   "mimetype": "text/x-python",
   "name": "python",
   "nbconvert_exporter": "python",
   "pygments_lexer": "ipython3",
   "version": "3.8.15"
  },
  "orig_nbformat": 4
 },
 "nbformat": 4,
 "nbformat_minor": 2
}
