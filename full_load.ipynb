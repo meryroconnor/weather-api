{
 "cells": [
  {
   "cell_type": "code",
   "execution_count": 1,
   "metadata": {},
   "outputs": [],
   "source": [
    "\n",
    "import pandas as pd\n",
    "import datetime as dt\n",
    "from redshift_utils import load_to_redshift,conn_redshift,request_data\n"
   ]
  },
  {
   "attachments": {},
   "cell_type": "markdown",
   "metadata": {},
   "source": [
    "## Full load \n",
    "*from dataframe to Redshift (for given date range)*"
   ]
  },
  {
   "cell_type": "code",
   "execution_count": 2,
   "metadata": {},
   "outputs": [],
   "source": [
    "\n",
    "df_list = []\n",
    "start_date = dt.datetime(2023,4,1)\n",
    "end_date = dt.datetime(2023,5,14)\n",
    "\n",
    "while (start_date<=end_date):\n",
    "    row = request_data(start_date)\n",
    "    df_list.append(row)\n",
    "    start_date = start_date + dt.timedelta(days=1)\n",
    "\n",
    "df = pd.concat(df_list)\n",
    "\n"
   ]
  },
  {
   "cell_type": "code",
   "execution_count": 3,
   "metadata": {},
   "outputs": [
    {
     "data": {
      "text/html": [
       "<div>\n",
       "<style scoped>\n",
       "    .dataframe tbody tr th:only-of-type {\n",
       "        vertical-align: middle;\n",
       "    }\n",
       "\n",
       "    .dataframe tbody tr th {\n",
       "        vertical-align: top;\n",
       "    }\n",
       "\n",
       "    .dataframe thead th {\n",
       "        text-align: right;\n",
       "    }\n",
       "</style>\n",
       "<table border=\"1\" class=\"dataframe\">\n",
       "  <thead>\n",
       "    <tr style=\"text-align: right;\">\n",
       "      <th></th>\n",
       "      <th>date</th>\n",
       "      <th>mintemp_c</th>\n",
       "      <th>maxtemp_c</th>\n",
       "      <th>avghumidity</th>\n",
       "      <th>totalprecip_mm</th>\n",
       "    </tr>\n",
       "  </thead>\n",
       "  <tbody>\n",
       "    <tr>\n",
       "      <th>0</th>\n",
       "      <td>2023-04-01</td>\n",
       "      <td>11.3</td>\n",
       "      <td>23.8</td>\n",
       "      <td>54.0</td>\n",
       "      <td>0.0</td>\n",
       "    </tr>\n",
       "    <tr>\n",
       "      <th>0</th>\n",
       "      <td>2023-04-02</td>\n",
       "      <td>14.6</td>\n",
       "      <td>28.1</td>\n",
       "      <td>53.0</td>\n",
       "      <td>0.0</td>\n",
       "    </tr>\n",
       "    <tr>\n",
       "      <th>0</th>\n",
       "      <td>2023-04-03</td>\n",
       "      <td>15.2</td>\n",
       "      <td>19.9</td>\n",
       "      <td>88.0</td>\n",
       "      <td>26.0</td>\n",
       "    </tr>\n",
       "    <tr>\n",
       "      <th>0</th>\n",
       "      <td>2023-04-04</td>\n",
       "      <td>14.9</td>\n",
       "      <td>24.8</td>\n",
       "      <td>78.0</td>\n",
       "      <td>0.0</td>\n",
       "    </tr>\n",
       "    <tr>\n",
       "      <th>0</th>\n",
       "      <td>2023-04-05</td>\n",
       "      <td>17.6</td>\n",
       "      <td>24.7</td>\n",
       "      <td>71.0</td>\n",
       "      <td>0.1</td>\n",
       "    </tr>\n",
       "  </tbody>\n",
       "</table>\n",
       "</div>"
      ],
      "text/plain": [
       "         date  mintemp_c  maxtemp_c  avghumidity  totalprecip_mm\n",
       "0  2023-04-01       11.3       23.8         54.0             0.0\n",
       "0  2023-04-02       14.6       28.1         53.0             0.0\n",
       "0  2023-04-03       15.2       19.9         88.0            26.0\n",
       "0  2023-04-04       14.9       24.8         78.0             0.0\n",
       "0  2023-04-05       17.6       24.7         71.0             0.1"
      ]
     },
     "execution_count": 3,
     "metadata": {},
     "output_type": "execute_result"
    }
   ],
   "source": [
    "df.head()"
   ]
  },
  {
   "cell_type": "code",
   "execution_count": 4,
   "metadata": {},
   "outputs": [
    {
     "name": "stdout",
     "output_type": "stream",
     "text": [
      "Connected to Redshift successfully!\n",
      "Proceso terminado\n"
     ]
    }
   ],
   "source": [
    "conn_db_coder = conn_redshift(\".env/pwd_coder.txt\")\n",
    "load_to_redshift(conn=conn_db_coder, table_name=\"forecast\",dataframe=df)"
   ]
  }
 ],
 "metadata": {
  "kernelspec": {
   "display_name": "etl-prices",
   "language": "python",
   "name": "python3"
  },
  "language_info": {
   "codemirror_mode": {
    "name": "ipython",
    "version": 3
   },
   "file_extension": ".py",
   "mimetype": "text/x-python",
   "name": "python",
   "nbconvert_exporter": "python",
   "pygments_lexer": "ipython3",
   "version": "3.8.15"
  },
  "orig_nbformat": 4
 },
 "nbformat": 4,
 "nbformat_minor": 2
}
